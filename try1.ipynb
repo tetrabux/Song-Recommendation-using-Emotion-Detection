{
 "cells": [
  {
   "cell_type": "code",
   "execution_count": 1,
   "metadata": {},
   "outputs": [
    {
     "name": "stderr",
     "output_type": "stream",
     "text": [
      "Using TensorFlow backend.\n"
     ]
    }
   ],
   "source": [
    "#this is the first part of my project, see this and the actal implementation is in the next file"
    "import keras as K\n",
    "from keras.preprocessing.image import ImageDataGenerator\n",
    "from keras.models import Sequential\n",
    "from keras.layers import Dense,Dropout,Activation,Flatten,BatchNormalization\n",
    "from keras.layers import Conv2D,MaxPooling2D\n",
    "import os"
   ]
  },
  {
   "cell_type": "code",
   "execution_count": 2,
   "metadata": {},
   "outputs": [],
   "source": [
    "import tensorflow as tf"
   ]
  },
  {
   "cell_type": "code",
   "execution_count": 3,
   "metadata": {},
   "outputs": [],
   "source": [
    "import pandas as pd\n",
    "import numpy as np"
   ]
  },
  {
   "cell_type": "code",
   "execution_count": 4,
   "metadata": {},
   "outputs": [],
   "source": [
    "import matplotlib.pyplot as plt"
   ]
  },
  {
   "cell_type": "code",
   "execution_count": 5,
   "metadata": {},
   "outputs": [],
   "source": [
    "data = pd.read_csv(r'C:\\Users\\91790\\Downloads\\ML\\Project\\FER\\dataset\\fer2013.csv')"
   ]
  },
  {
   "cell_type": "code",
   "execution_count": 6,
   "metadata": {},
   "outputs": [
    {
     "data": {
      "text/html": [
       "<div>\n",
       "<style scoped>\n",
       "    .dataframe tbody tr th:only-of-type {\n",
       "        vertical-align: middle;\n",
       "    }\n",
       "\n",
       "    .dataframe tbody tr th {\n",
       "        vertical-align: top;\n",
       "    }\n",
       "\n",
       "    .dataframe thead th {\n",
       "        text-align: right;\n",
       "    }\n",
       "</style>\n",
       "<table border=\"1\" class=\"dataframe\">\n",
       "  <thead>\n",
       "    <tr style=\"text-align: right;\">\n",
       "      <th></th>\n",
       "      <th>emotion</th>\n",
       "      <th>pixels</th>\n",
       "      <th>Usage</th>\n",
       "    </tr>\n",
       "  </thead>\n",
       "  <tbody>\n",
       "    <tr>\n",
       "      <th>0</th>\n",
       "      <td>0</td>\n",
       "      <td>70 80 82 72 58 58 60 63 54 58 60 48 89 115 121...</td>\n",
       "      <td>Training</td>\n",
       "    </tr>\n",
       "    <tr>\n",
       "      <th>1</th>\n",
       "      <td>0</td>\n",
       "      <td>151 150 147 155 148 133 111 140 170 174 182 15...</td>\n",
       "      <td>Training</td>\n",
       "    </tr>\n",
       "    <tr>\n",
       "      <th>2</th>\n",
       "      <td>2</td>\n",
       "      <td>231 212 156 164 174 138 161 173 182 200 106 38...</td>\n",
       "      <td>Training</td>\n",
       "    </tr>\n",
       "    <tr>\n",
       "      <th>3</th>\n",
       "      <td>4</td>\n",
       "      <td>24 32 36 30 32 23 19 20 30 41 21 22 32 34 21 1...</td>\n",
       "      <td>Training</td>\n",
       "    </tr>\n",
       "    <tr>\n",
       "      <th>4</th>\n",
       "      <td>6</td>\n",
       "      <td>4 0 0 0 0 0 0 0 0 0 0 0 3 15 23 28 48 50 58 84...</td>\n",
       "      <td>Training</td>\n",
       "    </tr>\n",
       "  </tbody>\n",
       "</table>\n",
       "</div>"
      ],
      "text/plain": [
       "   emotion                                             pixels     Usage\n",
       "0        0  70 80 82 72 58 58 60 63 54 58 60 48 89 115 121...  Training\n",
       "1        0  151 150 147 155 148 133 111 140 170 174 182 15...  Training\n",
       "2        2  231 212 156 164 174 138 161 173 182 200 106 38...  Training\n",
       "3        4  24 32 36 30 32 23 19 20 30 41 21 22 32 34 21 1...  Training\n",
       "4        6  4 0 0 0 0 0 0 0 0 0 0 0 3 15 23 28 48 50 58 84...  Training"
      ]
     },
     "execution_count": 6,
     "metadata": {},
     "output_type": "execute_result"
    }
   ],
   "source": [
    "data.head()"
   ]
  },
  {
   "cell_type": "code",
   "execution_count": 7,
   "metadata": {},
   "outputs": [
    {
     "data": {
      "text/plain": [
       "pandas.core.frame.DataFrame"
      ]
     },
     "execution_count": 7,
     "metadata": {},
     "output_type": "execute_result"
    }
   ],
   "source": [
    "type(data)"
   ]
  },
  {
   "cell_type": "code",
   "execution_count": 8,
   "metadata": {},
   "outputs": [
    {
     "data": {
      "text/plain": [
       "3    8989\n",
       "6    6198\n",
       "4    6077\n",
       "2    5121\n",
       "0    4953\n",
       "5    4002\n",
       "1     547\n",
       "Name: emotion, dtype: int64"
      ]
     },
     "execution_count": 8,
     "metadata": {},
     "output_type": "execute_result"
    }
   ],
   "source": [
    "data.emotion.value_counts()"
   ]
  },
  {
   "cell_type": "code",
   "execution_count": 9,
   "metadata": {},
   "outputs": [
    {
     "data": {
      "text/plain": [
       "(35887, 3)"
      ]
     },
     "execution_count": 9,
     "metadata": {},
     "output_type": "execute_result"
    }
   ],
   "source": [
    "data.shape"
   ]
  },
  {
   "cell_type": "code",
   "execution_count": 10,
   "metadata": {},
   "outputs": [],
   "source": [
    "num_classes = 7"
   ]
  },
  {
   "cell_type": "code",
   "execution_count": 11,
   "metadata": {},
   "outputs": [],
   "source": [
    "y = data.emotion"
   ]
  },
  {
   "cell_type": "code",
   "execution_count": 12,
   "metadata": {},
   "outputs": [],
   "source": [
    "pix = data.pixels"
   ]
  },
  {
   "cell_type": "code",
   "execution_count": 13,
   "metadata": {},
   "outputs": [],
   "source": [
    "X = np.zeros((pix.shape[0],48*48))\n",
    "\n",
    "for i in range(X.shape[0]):\n",
    "    p = pix[i].split(' ')\n",
    "    for j in range(X.shape[1]):\n",
    "        X[i,j] = int(p[j])"
   ]
  },
  {
   "cell_type": "code",
   "execution_count": 14,
   "metadata": {},
   "outputs": [
    {
     "data": {
      "text/plain": [
       "array([[ 70.,  80.,  82., ..., 106., 109.,  82.],\n",
       "       [151., 150., 147., ..., 193., 183., 184.],\n",
       "       [231., 212., 156., ...,  88., 110., 152.],\n",
       "       ...,\n",
       "       [ 17.,  17.,  16., ..., 154., 133., 113.],\n",
       "       [ 30.,  28.,  28., ...,  35.,  30.,  28.],\n",
       "       [ 19.,  13.,  14., ..., 189., 199., 201.]])"
      ]
     },
     "execution_count": 14,
     "metadata": {},
     "output_type": "execute_result"
    }
   ],
   "source": [
    "X"
   ]
  },
  {
   "cell_type": "code",
   "execution_count": 15,
   "metadata": {},
   "outputs": [
    {
     "data": {
      "image/png": "iVBORw0KGgoAAAANSUhEUgAAAPsAAAD6CAYAAABnLjEDAAAAOXRFWHRTb2Z0d2FyZQBNYXRwbG90bGliIHZlcnNpb24zLjMuMCwgaHR0cHM6Ly9tYXRwbG90bGliLm9yZy86wFpkAAAACXBIWXMAAAsTAAALEwEAmpwYAAAhUklEQVR4nO2dW6xe1Xmu38/GNhAHsPFp+RCf4iScgq2YBBIHLA6CpA1ElRI1ERWVonCRVkrVNo3ZlbbUi62wtaWKi71zgdSoJFStIrUKCHWncdiEqgoyMdgmpK4PKTbYXrYxPsUhIfby2BfrN/V8x+v1f+u3/a/fme8joeUxGHPOMcecw3N9r79DlFJgjPntZ9JET8AY0x+82Y1pCd7sxrQEb3ZjWoI3uzEtwZvdmJZwXps9Iu6LiG0RsTMi1l2oSRljLjzR67+zR8RkANsB3ANgD4CfAPhCKeXfz3XM1KlTy5VXXtnomzSp+fdNRFTHjYyMjNkex5wb7dOnT3cdo+Drv+c976nGTJ06terje1Vrz31qDF9f3Yfq6zYfbgPA5MmTq77LLrus0Z4yZcoFO3cv8Bq9/fbb1ZiTJ0822uo5qzXjtT516lTXMeqZZZ5H5v3kPr7WyZMnMTIyIl/iy1Rnko8C2FlK+c/ORP8BwAMAzrnZr7zySqxZs6bR9973vrfRVi/AL37xi0b78OHDXSenzsMvnHop+MVV5zl69Gijfcstt1Rjli5dWvVdfvnljbb6S4tfyt/85jddr/+rX/2qGqP6us1n+vTp1Zirrrqq6ps1a1ajPWfOnGoMP9dp06ZVY6655ppGW73c/BeL2my8Zlu2bKnG7N+/f8zzAsCvf/3rqu/YsWON9ptvvlmNOXLkyJjzAernod4rfvdOnDhRjeE+XrPdu3dXx5zhfH6NXwDgjbPaezp9xpgB5Hw2u/pVofr9JSIejoiNEbFRfaWMMf3hfDb7HgCLzmovBLCPB5VSHi+lrC6lrFZ2rDGmP5yPzf4TACsiYimAvQB+H8AXxzrg9OnTlQ3KtpSyyViEULbujBkzGm22R4Ha/lV2G+sDyv761Kc+1Wgrm52FSEDfG5P5C/Gdd94Z93mVQMY2olozNR+27dUY7ssIlgq2bdWzZ+1l1apV1Zjnnnuu0d67d281Rj0znqO6Pq+bemcYJRCyXa/eT157vvexBOaeN3sp5VRE/DGAfwEwGcC3Sik/6/V8xpiLy/l82VFK+WcA/3yB5mKMuYjYg86YlnBeX/bxMjIygrfeeqvRxzbH1VdfXR3H/2ar7Ca2b9S/mbItxf9eDQAzZ85stO++++5qzMqVKxttZY/26jDCdrSywfjcyqmFj8ucJ2PXqz5lW/KaqPXgOSlnFB6j9Am+Pr8vALBixYpGe9u2bdUYda9sR/O/uwP1O6zWg+9N+UGwXqQ0BNYH+Fpj2ez+shvTErzZjWkJ3uzGtARvdmNaQl8FulOnTlWiGAsOSpRg538VIMDiRkYQ+tCHPlSNuffeexvtefPmVWNYyMoKdDxOBX7wcZmACQXfqxLfWNzJrJkiE9GmRCu+fyW88nlUQA2fWwl91113XaP9gx/8oBqjBFt2YlHCGq+Rug8WFtU7nHEn77ZmY0Wx+stuTEvwZjemJXizG9MS+mqzA7XNwbaLSijBDjIqoQLbjWrMTTfd1Gjffvvt1Zi5c+eOeV6FstGUHc/3nrF1M845mUQdmeOUfZ7RB9T1eU2Uzc5zVGMy8PWV483s2bMb7fnz51djXnrppapvwYJmigblsMPJK1RAUQY+jpN7ALVNzlrVWPjLbkxL8GY3piV4sxvTErzZjWkJfY96Y8cFdpJQwtK1117baLPYAtSC3PLly6sxN998c6OtUkAzSnzqNf0231smVbBaDxa/lLDG6zrRpbmVw0gm3XRGaMxwxRVXNNrLli2rxvzwhz+s+lgAW7x4cTXm+PHjjXYmwlA5B7EQfejQoWoMR4VmUlSfwV92Y1qCN7sxLcGb3ZiW0HenGoZtl0x1EeVs8IEPfKDRXrJkSTWG7bZeyy+xTaacQZTdlglOyZyHydjjmWtlHF/UnNQcx5NB5QzK/sw8j15QFXtUdqPh4eFGW+k8rBcpR5eMAxFnSOasTkAdiDOe9fGX3ZiW4M1uTEvwZjemJXizG9MS+i7QsXMBp3fOpApWTjXseKOcFjKlhFikyUSCZcQnoL43JaZcrHp4mTrvGcEye1ymtFQvUW7KyYnXVQl9PEZlIFJz5BLN6tyZcsyZOfKaKSGaz81ioFNJG2O82Y1pC97sxrSEvtrspZTKRmc7RdkybNupElFs6ypnELYtM0EmytGCx6hsLhlnFKVPcJ+ya9luyzijqDnymExADVDff6Ycl8rKyqg1ywRK8RhVMpkDcZR9rrLQ7Nu3r9FWdjS/Ixm9KOPkpObI65jRgd69ZtcrGmN+K/BmN6YleLMb0xK82Y1pCX13qsmIWwxHFanII+5Tjg0sZCmBrJfU0RkRTY1TgpgSl5hMquJuZbaA+l4zzjGq75133qnG8L2psl4ZcSlTIopRzyOzrurZ//KXv2y0lWCbeR68Zpn5KPj6zlRjjKnwZjemJXTd7BHxrYg4GBGvntU3MyLWR8SOzs8ZY53DGDPxZGz2vwXwvwF8+6y+dQCeLaU8GhHrOu2vdztRRFT2DTsgzJw5szqO+zijB5ALqshk9cg4mmSyxCqbLGNf8RiV9YRLZClnEL4PLlEE1GuvbG+1RlwiS12fnViywUJMphwW2/FKi+l2XkBnwM2UUc5cj212pYVkArW6ZQ0+r0CYUsq/AjhM3Q8AeKLz5ycAfLbbeYwxE0uvNvvcUsowAHR+1onjjDEDxUX/p7eIeBjAw8CFS/hvjBk/ve6+AxExBACdnwfPNbCU8ngpZXUpZXWvdpsx5vzp9cv+NICHADza+flU5qBJkyZVAh1nmFmxYkV13MKFCxtt5aCRqWPOgkfmGCXQsCDFKarPdW6+98xvOkog48gnJazxuTOCkBrDYiBQO3aoez1x4kSjrTLw8DqqteZrKTEsUzKLj1MCqrpXFn7VGvHzV+dh1IcvE/HYLUr0vAS6iPh7AC8A+GBE7ImIL2F0k98TETsA3NNpG2MGmK5f9lLKF87xv+66wHMxxlxErJgZ0xL6Gghz2WWXVTY6l2lSpXTZqabXTKVsE2UCYZQ9ynaRcn5QfWxfKVs/UyJKZeph2CZV2VPU9RlVgujYsWONttIM+Di1HvwclXMOH6ds7V70msOH2XWkvi81R2WP8zPqtWQXz1HpHN2yLTm7rDHGm92YtuDNbkxL8GY3piX0VaCbMmVKVXZn8eLFjbYq7cRCRaaOuIowy6SJZgFEiSQHDhxotNmBBNCpk1lcUmLKrFmzGm3lQMQCHWfyAep5q/PwcdmU2ByJd/z48WoM96k57t27t9Fm8RYApk+f3mhnHJjUc+1WNgnQa8SOPurcvG7q/eT3KpNxJyPijQd/2Y1pCd7sxrQEb3ZjWoI3uzEtYcI96DjFlPL0yqSbZlFECXTs6aW8sVhsU0Ibe4cpzysl7GU87w4dOtR1TKYmN68HRw4CtRiqPNhUbTO+nhKSWBBTnmfsxZZJOaWeGYt4aj48Z/V8lEDH74yKzOvFezMzxwzjqXHvL7sxLcGb3ZiW4M1uTEvoq80+adKkqkwTO0koJw625TK2TSYSSjlIsP2tbM1M9JqytdneVPYnl23i8kNAbddnShLt2bOn6xjl1KLSdi9atKjrGNYD1L2y441yTmINR9nMbH+zDQ/kdB9VVoxTcKtIyUyGmbHqpo9nTLeoSEe9GWO82Y1pC97sxrQEb3ZjWkJfBbqIqIQSFhQytbWUQwSLIkroy0QnsWilxC8WyF577bVqjBJKMvXXGCUQZuqBs/ilhCWOnlP3qgRCjmBTzjgsYrLwCADDw8ONtkpvxYLpG2+8UY3hdVXzYaci9exVXy9icMbJScGirjoPP/tMnbkz+MtuTEvwZjemJXizG9MS+mqzl1Iq54pMgECmvA/bTWoM23KZ8yjnGHYYUXaTctBgW185uvC9qsCgO++8s9FWmkEmlTP3qaAXdR+smSinIj5u165d1Zjvf//7jbZKW82ahXpmbA+vWrWq63zUmql3j8+tnIN4HdUcM84v/OwzTjaZ/fPuHLqezRjzW4E3uzEtwZvdmJbgzW5MS5hwgY4FGBVBlRE3WEhRwhaLF5n615zaGagFqd27d1djlHNQt9raAPD666832rfddls1Zs2aNY22cjJiAUoJbfwsFixYUI3hOnsAMDQ01GjPmTOnGsPr9r3vfa8as3nz5kZbZQViMXTt2rXVGObgwYNVHwtZqtZbJuOOEuj43JkIu0xUpprPeJxoGH/ZjWkJ3uzGtARvdmNaQl9t9pGRkSpAg4MflB2bqZmecfRgG105mrDjjbIj2ZaaP39+NebVV1+t+nhOn/vc56oxfD2VPYbnvXTp0moMB36omu7s5JNxjlFzUrY+2/FKV+CMNypYhlm+fHnVt3Llykb7+eefr8awrZ3JigPU+lDG1u7VHuc1yjjejCeLk7/sxrQEb3ZjWoI3uzEtoetmj4hFEfFcRGyNiJ9FxFc7/TMjYn1E7Oj8rP+B3BgzMGQEulMA/qyU8nJEvBfASxGxHsAfAni2lPJoRKwDsA7A18c60cjISFW6KFPeJxMNxMKEcphhAaYXAQSoM7qozCg33HBD1ceRX5ypBajTIKtIMHbaUOIbC2tKfGIHJrWu6jh2tMnUfr/vvvuqMex4o5xh+Dnecccd1Rjm3nvvrfq2b9/eaKusPEqMzERB9oJ69/i5Zt7z8ZSM6vplL6UMl1Je7vz5FwC2AlgA4AEAT3SGPQHgs+mrGmP6zrhs9ohYAmAVgA0A5pZShoHRvxAA1D6To8c8HBEbI2Kj+mobY/pDerNHxHQA/wjgT0opx7uNP0Mp5fFSyupSyuqMz7Ax5uKQcqqJiCkY3eh/V0r5p073gYgYKqUMR8QQgNrgIk6ePIl9+/Y1+jh7aaZsr3K8YftGjeFzq798eIyyWdkhQ9lxKqCHnW9YvwDqQIeMk5HKjML2p9Iw2IFHZXdV98/ON5ky29dff33X66uy0qxhqIy8PB/lZLRp06ZGO6MNATmbuJfMsQqek3o/eT7jyW6TUeMDwN8A2FpK+euz/tfTAB7q/PkhAE91O5cxZuLIfNk/AeAPAPw0IjZ3+v4bgEcBfDcivgTgdQC176cxZmDoutlLKf8G4Fy/y9x1YadjjLlY2IPOmJbQ16i3qVOnViIMiytKYGDhSEVn8ZiM+KaEFRa7lMMIj1HZQ9T1WUxRzjAs0mSEHVUOiq+l5sjnVuKoOjdn4VFz5DViJxsAWLZsWaO9d+/eagxHSSrYOUeJo5lyWMrRppcItoyolxGZM9d2+SdjTIU3uzEtwZvdmJbQV5t92rRpVaYRtr+V3cR2YybLiLJl2IlD2URsN2XKQ6trKacNPnemlFCmtHDGRlRzzAR5ZOaoMulm7oMDiObNm1eNWbJkSaOt7jWjxfD9q/Nk7F+lKfUSHKOO4TmpMZkyZ+fCX3ZjWoI3uzEtwZvdmJbgzW5MS+h7+ScWQViQU6mbMwIIH6dEmsx52NlBRYKxo42K+lJOEyx2ZbKVZMg4zCjhMxNNqAQ6vl+1rkq0Y1j8VBl/OCpSCaYs8qo15DVS4qxax0xmGD5OrVkmMo7XXx3D65qp4X4Gf9mNaQne7Ma0BG92Y1qCN7sxLaGvAl1EVOJOxquMUYJYxjsuE2GXETxYNFKRcUokYnFJ3QeTEY0U7GWoUmB1S3F0rmuxcKSeGT8PFanIqDXjtVUeY7yuSjDkOSvxS90/C7SZ9OPqHRqPp9tY5+ml9ty7cxj3DIwxlyTe7Ma0BG92Y1pC3232bk4jyt5im0jZTWy3KVuX7S9lt7H9qWwtPre6liolxPeRKTek4Ou9/fbb1Zhjx46N2QZyZaxUH6+bymbD96GcYbqd91x9DD8jpSFkot7UtZRTFaNs/W5kItoyY3g/uT67Mcab3Zi24M1uTEvwZjemJfRVoFOwoJBJy6wiqtiJQ4lGfK2M+KJEGxab1LV6rf+VqVnXLXIQAI4ePdposyMQUNdZzzi1ALWDjBLfuE+N4XVT98FzUs+M7029H+xklBUD2fFJpUTLOPX0kiZajekl1fgZ/GU3piV4sxvTErzZjWkJfXeqYQeIjEMC2yXKTmGbnet6A7VtpbLisD2sHF/Y9s+UkVLjlG3JdppaHz5OBbmwzc72uepT11L3xvefcTxSz4zXVtnDvaTtfvPNN6sxhw4dGvO854Jt9l7KQSkyGW/UtXjezlRjjKnwZjemJXizG9MSvNmNaQl9d6rpFg2VScvcq6MJO2j0WtecxZWM0AfkHE0y52Enkrfeeqsaw6KVcphhoU/NJxNBptaaRTslvikRtdv1MzXSXnvttWoMRwaqe1XvFa9bZh0za5YRCDMZiTKprs/gL7sxLcGb3ZiW0HWzR8TlEfFiRGyJiJ9FxF91+mdGxPqI2NH5OePiT9cY0ysZm/0dAHeWUk5ExBQA/xYR/xfA7wF4tpTyaESsA7AOwNfHOpFyqsk42bDzRcZGztR5V3YTB35kbMTxODaM9zjleMM2u7IR2dFm79691RhexyNHjlRj1Dpy9prrrruuGjNnzpxGWwXisD4zNDRUjWG7XgXC8Dpu3bq1GsPvR0YvAXJ6UUbnyZTDYnp9r85F1y97GeWMujKl818B8ACAJzr9TwD47AWdmTHmgpKy2SNickRsBnAQwPpSygYAc0spwwDQ+TlnjFMYYyaY1GYvpYyUUlYCWAjgoxFxY/YCEfFwRGyMiI0qMaIxpj+MS40vpRwF8CMA9wE4EBFDAND5efAcxzxeSlldSlmtEiEYY/pDV4EuImYDOFlKORoRVwC4G8D/BPA0gIcAPNr5+VTmguxUkylBxIKHcmxgkUoJIiw2ZWq4ZyK6FMq5gc+VKe+TqauuItq2b9/eaP/4xz+uxuzatavR3r9/fzVGzXHhwoWN9pYtW6oxfK9KELvjjjvGPC+Qc6rhKLcdO3ZUY/idUe9Z5nlkohnVsx9PRpmxjjmf8k8ZNX4IwBMRMRmjvwl8t5TyTES8AOC7EfElAK8D+Fz6qsaYvtN1s5dSXgGwSvS/BeCuizEpY8yFxx50xrSEvgbClFIqG5QdXZS9kynJlCFTtomvpQJz2LZTtp6yt7hPHZcp/8tOLcr+XL58eaOtsrewrfn+97+/GqOcYTgLjnJyWrJkSaP9yU9+shrDNnrmeah1ZScanh9Q36vSQpT9y7a+GsPrnykZ3UvJKKD3dx/wl92Y1uDNbkxL8GY3piV4sxvTEvou0GVSDDPdIuWA8TkXnCETnZRJ56tExYxol3HsUAIhl19Sa7hgwYJGe+3atdUYFu2U0KbSVHNaZuXUs2bNmkZbRcZxJJ56Hrz+SjB85ZVXqj4m4wiVIeMwo8ZwX6/12S3QGWO64s1uTEvwZjemJfTVZj99+nRlc7ENosotZTKlMsrWzWQLYXtc2UiZTDWZ8j6Z6yu7nrO1KNsuo42w7X/VVVdVY+bOnVv1cRYadRzPW2XT4etnynVv27atGrNz585GO5M1OPt8Mk41vZRjVvAzypaoyuIvuzEtwZvdmJbgzW5MS/BmN6Yl9L38E5OJRGPBo9e65pm01exEkjmPElKUiMgCjEqLzMLi8ePHqzHs/KJERJ63yv/H81HrqjLM8P2q++eoMlWiitNEq+vzvaqMOxnhUwmETK+pmzOlpbhPzTnjrMXws3f5J2OMN7sxbcGb3ZiW0HenGrZT2eZQthXbsZlyu+o8fK2MM4qyvXk+yv5SdjTPSR3H63Ps2LFqDNuWvQZesM2s1lXZ0Xxv7BwD1Pbn4cOHu45RqcY3bNjQaHNGXHV9pYXw2qty0eo4ZunSpVUfB/ns3r27GvP666832pxtCKjfq4xeNB78ZTemJXizG9MSvNmNaQne7Ma0hL5nqlHZULrBQoUSKbhPpQrm86jIuEz5JY6qyqSEBmqRTDm6ZNYnk7mHhUUlWJ44caLRVtFi8+fPr/oy4l9GROQxSrB84YUXGm11Hyz0ZSLT+N4BnUr7wx/+cKM9e/bsaswXv/jFMa8FAOvXr2+0v/nNb1ZjhoeHG+1eot7GSlHtL7sxLcGb3ZiW4M1uTEvwZjemJfRVoBsZGZGpgM9GiUTs2aQEmExddfYQy6STUqIRi2iZenBqjurcnKZZ1WjjyDwVGcf1zpSwxddXgtCKFSuqPl5b5Xl22223NdrXXnttNYb79uzZU41hjznlrcf3oe513rx5jfbNN99cjfnyl79c9XGa6u985zvVGE6brdJ03XrrrY22Sr/92GOPNdrqufI7zALyWCmx/GU3piV4sxvTErzZjWkJfY96Y3szY29xhJKqv83OBJlsIcquzzgy8BzVnJXtxPaVcjQZGhpqtJXzB0dVHTlypBrDxykHHu5TUWfKjr7mmmsa7auvvroaw84nKkU4r9GmTZuqMazxqPPw+/H5z3++GnP77bePOT9ArxG/r+r9+MY3vtFo79+/vxrDWoO6/qJFixptLo+l+mbMmNFojxUV5y+7MS3Bm92YlpDe7BExOSI2RcQznfbMiFgfETs6P2d0O4cxZuIYz5f9qwC2ntVeB+DZUsoKAM922saYASUl0EXEQgC/A+B/APjTTvcDANZ2/vwEgB8B+PpY51H12VkUUQIIj8nUX1PpnHiMihBiEU+JaDxGOZVk6n2p1ETskKEisVStdYbXSDkzsdCp1l45iLAgl4l6U9dnEXHLli3VGI7eU8/srrvuarQ/9rGPVWP4Xp9++ulqjLr+wYMHG22VpotFPJU2m0VN9X6y+KjeD17X7du3N9oqSvMM2S/7YwD+AsDZKz23lDLcmcAwgDniOGPMgNB1s0fE7wI4WEp5qZcLRMTDEbExIjZmEvUbYy4OmV/jPwHg/oj4NIDLAVwVEU8COBARQ6WU4YgYAnBQHVxKeRzA4wAwffr03kpuGGPOm66bvZTyCIBHACAi1gL481LKgxHxvwA8BODRzs+nEueqHFDY3lH2LzsgZOpvK5SjDcN2qzqG7fFMNhugdoBQaap5fVTmGp6jCrphJw522ADqIBcV0KPWtVswE1Cvm3L8YXtT1V7ne73pppuqMcuWLet6ra1btzbayllI2dr8bFUAC6N0Hn7PM0FYbOcDwP33399oswPPt7/97XPO63z+nf1RAPdExA4A93TaxpgBZVzusqWUH2FUdUcp5S0Ad4013hgzONiDzpiW4M1uTEuY8PrsjKoJxg4iSrhgwUMJaxwdlfmnQOVowmKLEuMytd74PIpMHW/lwMNZTvbt21eNYfFPnUet9axZsxptlT2GhS31XDlN9Ny5c7te/5ZbbqnGsPOJug/lMMNcf/31Vd/OnTsbbSVOchacTH0+FbnJ4rR69jfccEOjzU5XSmQ9g7/sxrQEb3ZjWoI3uzEtoe+ZatjmYRtD2bps76kxbDcrZxQ+TgV5sK2vspdkMt6ojCo8JxVAknHYYacR5UTCARsqgIOznig7UmWX/fjHP95oK1ub1+TFF1+sxrz88suN9o033liN+cxnPtNos30M1Gumnj3XR1d6DTs9AXX5K5XxlTMAq/VgvYgdioD6WatrPf/88402OxRdiEAYY8wljje7MS3Bm92YluDNbkxL6KtAN23aNHzwgx9s9LGzg0pnzAKUcjaYM6eZO0OJX5m01ewgohw02IlDRa9lUlJn6qqr+2DnC+XEkSkLxPeaLWOlUiUzvNbPPPNMNYZFs6985SvVGI5yUwIdr9HPf/7zagw/a+VkdODAgaqPr8eCGFA/M3WeJUuWNNoq/TZH/al3iJ/15s2bG20lTp7BX3ZjWoI3uzEtwZvdmJbQV5t9ypQplcMBO22wHQfUtqQKqmBnHWUTsTOMsmM5W4gKcmH7TzmsKNuJnXjUuXkMO2MAdXAI6yBALisr34fSEDJZcpWu8NxzzzXab7zxRjXma1/7WqP94IMPdp2jygLDZa5VYM7SpUsbbS7FDOisvVx6mstzAbUzkipjxfe/ePHiagw7FSntgfWrTGnuM/jLbkxL8GY3piV4sxvTErzZjWkJfRXoRkZGKnGNnWFUql4uE6RS/rKYMTw8XI1hoU9FtLGwpoS+TNpq5aDC11NjWFxSEVQsvinHF3b8UXNmYU0JbUrw4Qw7SuzasGFDo60cRFjsUs46HD2onv2uXbu6juEsNMuXL6/GqKg3dupZuHBhNSaTWpvFTxVhyMKrypzDz4j3xphzSI80xlzSeLMb0xK82Y1pCROeXZbtP2Ujs13PbaB2muDsIUCdKVSN4SATlS2EnWGUo4Wyx9mOVs5B7DSisunwGGVXs42snFHYGUiNUeW42E786U9/Wo3h8krKtnzyyScbbfXs3/e+9zXaal0zZbb5GSkNQ70P/IxUBiK2xzOlwFUpbs4cpDIkf+QjH2m02c5XAT7vzvOc/8cY81uFN7sxLcGb3ZiW4M1uTEsI5ZBx0S4W8SaA3QBmATjUZfggcinO23PuD4My58WllNnqf/R1s7970YiNpZTVfb/weXIpzttz7g+Xwpz9a7wxLcGb3ZiWMFGb/fEJuu75cinO23PuDwM/5wmx2Y0x/ce/xhvTEvq+2SPivojYFhE7I2Jdv6+fISK+FREHI+LVs/pmRsT6iNjR+VkHP08gEbEoIp6LiK0R8bOI+Gqnf2DnHRGXR8SLEbGlM+e/6vQP7JzPEBGTI2JTRDzTaQ/8nPu62SNiMoD/A+BTAK4H8IWIqCP0J56/BXAf9a0D8GwpZQWAZzvtQeIUgD8rpVwH4FYAf9RZ20Ge9zsA7iyl3AxgJYD7IuJWDPacz/BVAFvPag/+nEspffsPwG0A/uWs9iMAHunnHMYx1yUAXj2rvQ3AUOfPQwC2TfQcu8z/KQD3XCrzBnAlgJcBfGzQ5wxgIUY39J0AnrlU3o9+/xq/AMDZCbT3dPouBeaWUoYBoPOzjrMdECJiCYBVADZgwOfd+XV4M4CDANaXUgZ+zgAeA/AXAM6OZR30Ofd9s9eBxoD/OeACEhHTAfwjgD8ppdTB+ANGKWWklLISo1/Lj0bEjV0OmVAi4ncBHCylvDTRcxkv/d7sewAsOqu9EMC5o+0HiwMRMQQAnZ8HJ3g+FRExBaMb/e9KKf/U6R74eQNAKeUogB9hVCsZ5Dl/AsD9EbELwD8AuDMinsRgzxlA/zf7TwCsiIilETEVwO8DeLrPc+iVpwE81PnzQxi1iQeGGE3P8jcAtpZS/vqs/zWw846I2RFxTefPVwC4G8B/YIDnXEp5pJSysJSyBKPv7/8rpTyIAZ7zu0yAuPFpANsB/BzAX060aHGOOf49gGEAJzH628iXAFyLUVFmR+fnzImeJ815DUZNolcAbO789+lBnjeADwPY1JnzqwD+e6d/YOdM81+L/xLoBn7O9qAzpiXYg86YluDNbkxL8GY3piV4sxvTErzZjWkJ3uzGtARvdmNagje7MS3h/wO5u/QXrDUe/gAAAABJRU5ErkJggg==\n",
      "text/plain": [
       "<Figure size 432x288 with 1 Axes>"
      ]
     },
     "metadata": {
      "needs_background": "light"
     },
     "output_type": "display_data"
    },
    {
     "data": {
      "image/png": "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\n",
      "text/plain": [
       "<Figure size 432x288 with 1 Axes>"
      ]
     },
     "metadata": {
      "needs_background": "light"
     },
     "output_type": "display_data"
    },
    {
     "data": {
      "image/png": "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\n",
      "text/plain": [
       "<Figure size 432x288 with 1 Axes>"
      ]
     },
     "metadata": {
      "needs_background": "light"
     },
     "output_type": "display_data"
    },
    {
     "data": {
      "image/png": "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\n",
      "text/plain": [
       "<Figure size 432x288 with 1 Axes>"
      ]
     },
     "metadata": {
      "needs_background": "light"
     },
     "output_type": "display_data"
    },
    {
     "data": {
      "image/png": "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\n",
      "text/plain": [
       "<Figure size 432x288 with 1 Axes>"
      ]
     },
     "metadata": {
      "needs_background": "light"
     },
     "output_type": "display_data"
    },
    {
     "data": {
      "image/png": "iVBORw0KGgoAAAANSUhEUgAAAPsAAAD6CAYAAABnLjEDAAAAOXRFWHRTb2Z0d2FyZQBNYXRwbG90bGliIHZlcnNpb24zLjMuMCwgaHR0cHM6Ly9tYXRwbG90bGliLm9yZy86wFpkAAAACXBIWXMAAAsTAAALEwEAmpwYAAAhqUlEQVR4nO2db4yW1ZnGrxuEolUqoA4jQwEVFKSokaibbtVoTVzXlmaTpu2mG7Yh4ctuYrPdVNxNNumHTdhs0vTD7heSNmVj06ZJN9XYmoZgjbFpK/5B5Y84/GdgYCiW+qfVCp79MO+481znYt7DDLzz4rl+iRnO43mf5zzneQ4v9zXXfZ9IKcEY89FnymQPwBjTGbzYjakEL3ZjKsGL3ZhK8GI3phK82I2phAkt9oi4PyJ2RcTuiFh3rgZljDn3xHh/zx4RUwG8DuA+AAMAtgD4Skppx5k+M3369DRjxoxxXW8c48uOTZ06tdE+depU1ofHN2vWrKzPRRdddNbXKh2jOtauz5Qp+d/ZH3zwwTm5Vsn7ofqUnPv06dONNo9ZnZs/M97xqGevrl8Cz/97772X9fnTn/405mcAYPr06W2vxePma73zzjt499135eRfpA4WchuA3SmlvQAQET8CsArAGRf7jBkzsHLlyglcshz1l8rHP/7xRvvEiRNZnxtuuKHR/tKXvpT1ufzyyxvtiy++OOtz6aWXZsf4L4Bp06ZlffgvEgX3+djHPpb1+eMf/9i2D19fLRK1uLjfn//857bnVi/3m2++2Wi//fbbWR9+ufkzaowli/3kyZNtx6M+p8592WWXNdp79+7N+rz66quNtnpn+vr6Gm31hXHs2LFGe9++fY32k08+mX1mhIn8M34egEOj2gOtY8aYLmQi3+zqnwrZX3sRsRbAWkB/uxhjOsNEvtkHAMwf1e4DcIQ7pZQ2pJRWppRWlsQkxpjzw0S+2bcAWBwRiwAcBvBlAH97TkY1DlhcmTlzZtbniiuuaLQ51gKAz33uc422+tcIx1IqZuWYGcgFGBUP8/UuueSSttdXwlJJrMl9SgWqEvGN50Rd/5133mm033rrrawPf07F/jyPal5ZD1D3WiJ0qufK+tC8eXk0y/qQemf4WasvRx4P39dYms+4F3tK6VRE/COAXwCYCuB7KaXt4z2fMeb8MpFvdqSUfg7g5+doLMaY84gddMZUwoS+2bsJjnVVTMQ88MAD2TH+XaeKT0uMJsq0wbGkiq84blTX4ntTv49Vv8NvNx5lBlG8//77Y44HyGNLdR98r2o+eB7VeThufffdd7M+PEYVnyv4XtX1jx8/3mj39PRkfdi/sXv37qzP4cOHG+1rr70268PvJ49nrN94+ZvdmErwYjemErzYjakEL3ZjKuGCEOhYgFKmCTYkKJGGxQ0lpLDYo4QcTqhR5ocSAUiJPZyMocwfLGSViHHqPHys5FrqekoU4mfEBhrVR80ZH1PPtUQwLMmWU6JqiUDH11PmoJIEJzaCKeGVE6wWLVrUaI/lUvU3uzGV4MVuTCV4sRtTCRdEzM7GFi4eAQBz585ttFUcef311zfaykTCx9R5OGZXyREqRivJ+uP4ryQ5RcWRHO+VaAiq4IcaM49RxeMlpqYScxI/D6VPcEKTKgzBsf7Q0FDWR8XsfC420ChKkmXmzJmT9eFqNkpn4Hv9/e9/32iPNaf+ZjemErzYjakEL3ZjKsGL3ZhKmHSBjoUkJRKVVA9lIenOO+/M+rCwpuDrK6GtxMRRYqJQ4peqsMOUVIEpKcHM4p8ygyixicW+kszAEqOLEiNZNFMiGgtbSqBj1Dyr6rI8J+q5shFLibps+lLzwddS5+nv72+0SyoEj+BvdmMqwYvdmErwYjemEiY9Zuf4T8UyHF+piqu9vb2Ntkoi4JhQxUQqJmQ4rldaQImJRcXRf/jDHxptNR88bhVH8rGS8ah7V3PEMXHJTjIllVKVPlBivCnRYthUo+ZDxfFs6impGlyiYagx83z85je/yfrw55YtW5b1ORP+ZjemErzYjakEL3ZjKsGL3ZhK6LhAx8IRCxdKWONMnyVLlmR9Fi5c2Gir7X9Lti1iIYe3jFLnUWKPuo8S8Y/FL2Uy4jlTJhL+XMm9s1kI0FlmLFqVbHWsBKmSDD8Wv5QYyfOhtmNmVMUbdW4et/ocP+uSTEElfPIz43da9Tkb/M1uTCV4sRtTCV7sxlRCx2N2jls5TlLxJ8eNKibi2ErFbSVbHZckkHDihYp1S8wo6j74mIrzedxcrQTI51Vdi8+t+qh748+VVLhR5hh17nbnUTEzG13UnJVUBFbnZj1m9uzZWZ+SLaN5jOrd4/lQW4rzs+b3fKwKQf5mN6YSvNiNqQQvdmMqwYvdmEroqEAXEZmYc+WVVzbaysQxa9asRpvLRgPjM6woMwxvr6PElpI9sUtMNSWli5VgWSIQsiBVUtq5pLoOkD8j9czYVMNjBvK5VffKBh41ZyWVc/iYEshUaXF+jmoe+XOqtHZJZhxnPKp7/cQnPtFon81WYP5mN6YSvNiNqYS2iz0ivhcRQxGxbdSx2RGxKSL6Wz9njXUOY8zkUxKkfR/AfwH4n1HH1gHYnFJaHxHrWu2HSy7YrvIIV5wBgPnz5zfaHOcDeXyjYqvxbKWkYqsSfUDF+hxbKs2A4z9lWOHYtqTijtoyi6+ldAZVcbYk8YNjR/U8OP5U2gObRtS1eDwq9i6hJMlGweNW7wfH8SUViNR98Hn4/RjrHW/7zZ5SegbAG3R4FYCNrT9vBPCFducxxkwu443Ze1JKgwDQ+nnVuRuSMeZ8cN5/9RYRawGsBSaWi2uMmRjj/WY/FhG9AND6me9/2yKltCGltDKltLJky2JjzPlhvN/sjwNYDWB96+djJR+aMmVKJi6VZKstWrSo0VZCEmcslQhrJX/5KIGGz62q4ijxje913rx5ba+vxsjXU4IQj1uZWriPEnfUPHI/JayxsKfGyPemRCvuoyrecEZZSXUfhboPnms1R3yvaq753GqMPEeqStKJEyca7d/97ndjnmM0Jb96+yGAXwO4PiIGImINhhf5fRHRD+C+VtsY08W0/WZPKX3lDP/r3nM8FmPMecQOOmMqoeOJMGy24Hirr68v+xxX7FBxPRsiVKzJpgUVf3EspWI9Pg+bQ9R41LlUbLd3795GW8WRrHtw8o46xkkWqo/a2kiZg1gfUXHirl27Gu3Dhw9nfXiO1PZLXBlGGU34+qoPx/rqmal3ht+9N95gy0lZAhE/R3Wtkgq0/OxZv1J61gj+ZjemErzYjakEL3ZjKsGL3ZhK6KhAd/r06cyAwELJVVflNnsWM5QAw2KbEipYkCopr6zEl5IyyUNDuamwv7+/0X755ZezPiwA9fT0ZH2uu+66RlsJWyzkKDGSswcHBwezPiUZfkowPXjwYKO9Y8eOrA/Ph6Lk/eCMPmXO4TlasGBB1keVieZ3Rj3rq6++utFWIh6LmkpUZYOMElXbZcYpQXUEf7MbUwle7MZUghe7MZXgxW5MJXRUoEsptS3howQx/owSYFgAUSV1S/YsL3FDHThwoNEeGBjI+hw7diw79txzz7X9HDsIlfi2b9++RptLbQP5nH3yk5/M+nCJIyW0qb3XSzIM+VxKMOX9x1UJZka5DvlZq7JlLIip8ygHYUmJK75/VRKbRUTljORMyZISXOwMVNmWH/6/M/4fY8xHCi92YyrBi92YSuhozD5lyhRccskljWMcRx8/fjz7HBspVFzCMZCqaMKxlTKMsOln27ZtWZ/du3c32sqwwhVFgDyO5Qo8QB5/qziaTRtsxgBy7UFleXFsqwwZqpQ0Z+ap/eF5TkrKTV9zzTVZH67mo/qoGJ3h+1BZeCo+51hfaUEc/yvdh3UOZc4p2R6s3WcmVEraGPPRwIvdmErwYjemErzYjamEjgt0nLXDopAyiLCIx2IHkIsrSkhh0U5lebFhRQmGPB4lGKo95Lk0sBLfOFuuxOSjxEC+VyW+rVixotFmkwsAbN68OTvG869KafP+fGqvORZrlanl0KFDjbYy+fD+gCpTkAVKJfS9/vrr2THO3lPlnUv2mefnoZ5rSWk1nmt+9sqsM4K/2Y2pBC92YyrBi92YSuhozA7kZgKOW/fv3599hmPJkr2tVezC5g9lGOF4nONaIK9yogwjHOsBwCuvvNJoq1iX40+lT8yZMyc7xnAsp/QBnjNVBUZVb+FjKh5fsmRJ2zEePXq00Vb3yqaR1157LeuzZcuWRlvFujzGW2+9Neuj7r/EHMRzq/QRNkIpUw3fv9oiirUH1jDUvY/gb3ZjKsGL3ZhK8GI3phK82I2phI5XqmHxgs0wyjTBGUpqDyw2OyjTApfmVQIZV4ZZunRp1of52c9+lh1TWVV877yPGJBXa1HiF4tGysDDIqbKoHrqqafGvDagyz2z+UUJhvxc9+zZk/VhwfRTn/pU1mfnzp2NtjI58TElKvKzVlWCbrvttuwYi3bKMMPzpkxOLOypd48FOlVNh805PIdK5BzB3+zGVIIXuzGV4MVuTCVMuqmG26oqK8cuauscjlFVxQ422qhkGU7OUDHro48+2mgrDUFpBhyjc5IHAFx77bWNtpoPNlYowwzH0ZyYAgDLli1rtJVhRCWVcKUaFUfz3CoDE8efJTG7MtXweXh7LCDXS9SY1bZNXAVH6Sx33HFHo63eGd4iSr17fH0V+/P7wO+eOu8I/mY3phK82I2pBC92Yyqh7WKPiPkR8cuI2BkR2yPiodbx2RGxKSL6Wz/zqhPGmK6hRKA7BeAbKaUXI+IyAC9ExCYAfw9gc0ppfUSsA7AOwMNjnSillAlnJdsEsYhXUgJaiXgsrqjsJDaD/PSnP836sPFn1apVWR9ltOE9ypWxgrOxlEnixRdfbLQffPDBrA9/Tol4bMZhcRLQAuGuXbsabbW1FJuRlPGHRUzO+AOANWvWNNr33ntv1odR1+L3jjPuAC3+8edUJhq/R4sXL8768DujDDNs+lIiIl/rlltuabTZKDWatt/sKaXBlNKLrT+/BWAngHkAVgHY2Oq2EcAX2p3LGDN5nFXMHhELAdwC4LcAelJKg8DwXwgA8mTg4c+sjYjnI+J5lYdujOkMxYs9Ii4F8BMAX08p5Qb2M5BS2pBSWplSWql+j2uM6QxFppqImIbhhf6DlNL/tg4fi4jelNJgRPQCGDrzGYZRWzZzDKRiqWeeeabRVjHZ3Xff3WireJjjeJVksn379kZbVbzh2FJVOFFVSHmbJpV4wVVwVIzIBg01H7w9NG8FDeT3r66ltlbiZCGuwAMAN998c6Ot4lhlGmF4+yeVdMP6BMe+QP4c1X2VVI5VmhL/i1W9V5xAo3QnrlKs3j2+FifCKB3qw/Of8f+0iOE6N98FsDOl9O1R/+txAKtbf14N4LF25zLGTB4l3+yfBvB3AF6NiK2tY/8CYD2AH0fEGgAHAXzxvIzQGHNOaLvYU0rPAjhTFbv2vwcxxnQFdtAZUwkdz3pjAYHbSiS5/fbbG21l/mDBQwkwnB2l9uPmc/O1gVwkUtVLVq9enR3j6ysTCV9fCTl8TIkyL730UqNdUiZZnUeVPGbjj6oMw8KR2h+exS7e+grIRSplluJML5WFyKKimldVhpnNL+o3Srxlmaq2NJZwNgKLb8pQxcYwvtaEBDpjzEcDL3ZjKsGL3ZhK6GjMHhFZzMOxlDJ/cKKFqihSsk0Px8PKRMKxLcfZQB4jqmupOJ7jTVX1hHUEVfGV71WZL3geldGDP6fuVcXIfIwNNACwbdu2RpvNMUC+RZSqyMsJPGo+OEZXxhf+nKroonQe1hpUBSJ+/mrrZ0ZZx1WyEsPPfqztnhh/sxtTCV7sxlSCF7sxleDFbkwldFygY2GEDSpcShnIjQKcHQTk4psSLljIUZlxbBBRog1fXwlCSvzjY2w8UcfUGFlEVCYOFo2U0YRFInUfyjDDohVn8wF5lpuqeMPP7Jprrsn68FZTKqOtxLDCYqgy+SihlY0tSthjUVW9e3weZSBi4bmkkhILhsoENYK/2Y2pBC92YyrBi92YSvBiN6YSOirQTZkyJROpWDhhQQYoyzJj4UQJKZzppM7D41FuPXb9KWFHOb24NLASm1hgUdlqPB+qvBP3UYLUWPuCjdWH71+VPGaRijPDgHxuVZYX7zWn9nFjVJlmnlfVRznYWPxU2XKMeof5PEqcVcIzww46njO1x+GH5297dmPMRwIvdmMqwYvdmEroaMx+6tSpLC7imFRlZ3H1mv3792d92HyispP43KoPx/EqE4zjNlXxRsV2HOuqvc9VlhnDWVUq1uVrqQw7vn91HyoG5DheXX/r1q2NtnquXEpbmWo41h0YGMj68L2puecMP6VzlFQFUgaiEnOS0ggYZcRqdy2eH8fsxhgvdmNqwYvdmErwYjemEjoq0KWU2mb/8J5tQL73OrdLYUFMla1m0UoJMpyNpMQvlS1XUvKYBUwlJLEAVDIfykDEx5SwpEQ7vp4y3vBcK1MPC41KoLrpppsabVWCiw0zSmhjIUtlE5bsv6aeGc+HMtXwe6/EYb6WMtnw/XPbWW/GGC92Y2rBi92YSuj49k8Mx3sq3uFYUhkHOKmkpOqISnzgBJZDhw5lfTjJRMV6qiQ2j0ndK5smVKWYknLCfC2V0MNGD1UZRSX0sKlJVaHhWFvNB5+Ht6xS3Hjjjdkxjm3V8+A5UyafwcHB7BgnrChdgeNvNWclFW/4PMqs1O4zY5WW9je7MZXgxW5MJXixG1MJXuzGVELHK9W02yNdCUlXX311o61EkpJ9svhayjDDosj8+fOzPmwQUeYHZW5Q+3sxXNFFiUYHDx5stFkMA4AdO3Y02jt37sz6sPCpjB7q+v39/Y22EkPZaHL06NGsD5uRli9fnvXZt29fo62ELd4LUM0zPw91ryrjkEVUVWFmLCPLCCVGLBYRlcmJj6k+Z8Lf7MZUghe7MZXQdrFHxIyIeC4iXo6I7RHxrdbx2RGxKSL6Wz/zioLGmK6hJGZ/D8A9KaW3I2IagGcj4kkAfwNgc0ppfUSsA7AOwMPtTsa/9OcYXcXRnFShqsdwPK4MCRx/qdifDTOqKipXU+VtjAAd/6lkFIZj5Ndee63tGNX2T3welSzDSRQqOUTpEWyGUefevn17o71o0aKsD8/tXXfdlfXhbaSUhsAGGaUhcKyv4myV9MOxturDqKQfvp6a15LKQXxvfJ4JmWrSMCNvwbTWfwnAKgAbW8c3AvhCu3MZYyaPopg9IqZGxFYAQwA2pZR+C6AnpTQIAK2feYFzY0zXULTYU0qnU0o3A+gDcFtE5L8jOQMRsTYino+I50t+9WSMOT+clRqfUjoJ4GkA9wM4FhG9AND6me9BO/yZDSmllSmllSqWMsZ0hrYCXURcCeD9lNLJiLgYwGcB/AeAxwGsBrC+9fOxduf64IMPMuGMM5RUqeAFCxa0O7U0STBsvFHVZDhjSQmGbIhQYpwaD5sm1PZPnGWnsrO4TPSmTZuyPr/61a8abVV+m8046i9jlQnHQp4yNB05cqTR3rNnT9Zn3rx5jfadd96Z9WFxVj0PNrqoLbP4PVP/yhyrDPMIqlINC2lqHtVzZPh9KDFmnc32TyVqfC+AjRExFcP/EvhxSumJiPg1gB9HxBoABwF8seBcxphJou1iTym9AuAWcfwEgHvPx6CMMeceO+iMqYRJr1TDBhlVTZW3EmKjBaDjJIbjT3UtNl8oAw+bY5T5QcV2JTEhn3vu3LlZH74PrtIK5GYcZSDatWtXo60MREqP4HtTVXo5rlcJG7z9U0kVGE6KAvIKxSVVYFTMrirX8rNVVXB43OrZl1QELtlWmmN0V5c1xmR4sRtTCV7sxlSCF7sxldBRgS4isqwcFkqU2MWVWdiMAeRGFyWGjWc/cpXBxNlzShws2UpIiUQsiHGGG5CbLz7zmc9kfdhYosQeziDjTDVAZ8KxkKeqrvBe6ytWrMj6XH/99Y22ytjieVTX4vko2WddXUsJeyyGqnOzIKfGWJKVyWKbej/Z9MV9vD+7McaL3Zha8GI3phI6vmUz/9Kf2ypu4jhEVflgY4MyF3CfksoxJdU7VRyn4nGO/9T2T2xQKUmoWbp0adant7e30S6p3LNkyZKsDxtvAOC6665rtJWGwttWKXMOPw811zy3Sh8p2f6Jr6WeT8kcKeMNx+jq+vw+qtiar69MRjxHNtUYYzK82I2pBC92YyrBi92YSpj0rDdGCQwsQighRYl2DJsflNjDwo0SWxjVRxkiSs7FoqG615K9vlnoU+WmWSRSGWU33HBDdoyrrqjMQH6OquINC1CqDxtmVHUhPo8yAvG8lpSbBvIy4SV7v6t3mE1Naox8nhIRkc1B3p/dGOPFbkwteLEbUwldF7OruI1jIBXHciylTAt8bmWq4XOriiIcF6lYT8XsHLepyjAMJz4AZdv2ss6hkjN43KUJPZwcpOJEvr4yB3EfVTm2xHTF51HPnjUddR41j3yukirGJTqLgsek4vqS7aHPhL/ZjakEL3ZjKsGL3ZhK8GI3phK6TqBTlOyRzUKSyk4qEVe4D+/FDuRClhJNSoQ9BZtIlLGC719di8eoxDeeo5KMMgDYvXt3o33gwIGsjzLxMH19fY02Z+oB+fNQ52URs6QKjbov9TkWcZWBiI036v3k+ygR7JQ4qjIlS/E3uzGV4MVuTCV4sRtTCV7sxlRCxwW6iTiARlB7tM2fP7/t50qcVizAlOx/poQddZ8lQhKLMuo8vB+52ue9v7+/0X7hhReyPrxHnNqjTImaR48ebbTfeOONtmNUghgLcrfeemvWh7Puli9f3naMqvw2i2hKIFOOypJyZ8r1ybA7T5Wc4mevzquE51L8zW5MJXixG1MJXuzGVMIFYarheOfkyZNZH84QUnuGl2Q+8TEVo5VknSmDCsfs+/fvb3tuZZhhzULtz75ly5ZGW8WIHP8dPnw466MMIqxZ3HjjjVkfPsYGGiDXTFSGH8etbOgB8lLWqpoNo7QIFcdzP2V0KdkiivuUGLwU/H5wJqW3fzLGeLEbUwvFiz0ipkbESxHxRKs9OyI2RUR/62f7SgzGmEnjbL7ZHwKwc1R7HYDNKaXFADa32saYLqVIJYiIPgB/DeDfAfxT6/AqAHe3/rwRwNMAHi44V6Pdbu839RlVroeNHcpYUVLeik01JSYGZRhRe5uxKKPMMM8++2yjrfaH573Wenp6sj5f+9rXGm3eew0oEwNLyjJzaWkgFwSVaMVzqzL8mEOHDmXH9uzZ02gr8YvvVY1HfY6fbYmpRp2H32F1r5zRpzLc2mWAnou93r4D4JsARkt9PSmlwdYFBgFcVXguY8wk0HaxR8SDAIZSSrnfsoCIWBsRz0fE8xOx+hljJkbJP+M/DeDzEfEAgBkAZkbEowCORURvSmkwInoBDKkPp5Q2ANgAADNnzpy4Md4YMy7aLvaU0iMAHgGAiLgbwD+nlL4aEf8JYDWA9a2fj52/YTZR8RYnZ6iqJyX7aKtKJO1QBhpOvAByo48qnbx48eJG+6677sr6qBiZYXOQMsdw3Kh0BlWCmuNG9S82Nj4dOXIk68OGEKUrlMT+PB8l2y+VbMWlKEmgUfPB8bfSefjcStPhc5ckTn14zTP+n/asB3BfRPQDuK/VNsZ0KWfl2UspPY1h1R0ppRMA7j33QzLGnA/soDOmErzYjamErst6Kym3rGBDgjKD8LGSvdZU6WIWrVRFEXWMRRlVGWbFihWNthJ7WLhh8QnIK8VwG8hFNJUxpYRGvjeV9cfinxK2uLpQyd57yozC8zo0lP9iiMVHJWQp0Y7fmZI+aowsmKoxctlyZXLiZ83P4nwJdMaYCwgvdmMqwYvdmEroupi9JBFGxYgcy6iqK2y+UNVsON5SsTdXVFFVYFTcxsk6SldgU4+6vorRGdYDlGGmZGsjFaPy81C6As+Rqh7D1y+5LzXXbMZRZqVjx4412upe1X3w/avnyokv6jz87FVCDxvDlM7RznLumN0Y48VuTC14sRtTCV7sxlTCBbn9U8m2SWpfdRZJ5s6dm/VhYUkJVHxMmR+UQaWkMguLTWq+OINNZVCxYeiqq/LaIiXbYZWIRKokNwuCY5U4HqsPn7skW02Jkfw+lGSmAblAqvrwuNW5ufy32sKM36OSqjg8P2OZ0vzNbkwleLEbUwle7MZUQteZasYLG21UrMlGm5kzZ2Z9FixY0GiruGm8FWc5RlcVbtjsoe6jZMtoRhmR2AyiYm9ldCkxkXAfNUbWR9R5OEZVyUPtkkOAPNZXhiY1Rp5/pc8wqg/rRSoRpqTqDI/xbLaR8je7MZXgxW5MJXixG1MJXuzGVELHBbrxVqI52/Mq80XJvuYsAJWYUUqy8IBc7FGVWRglmjGqmgyfWwk5bM5R+96re+NzK6GRjSZKtOK5VoIUf04JljxulRnHYywR2oDcRKOuz/fKGXYAMDAw0GiXZPgpkZfniDM5xxLs/M1uTCV4sRtTCV7sxlTCR8ZUUwLHW1wZBMjjXxUzsz6gdAgVk7GJRFW35TGq63OMqOLqEm2Ez622uVbJOjzGEgOR0lBK4ma+DxUzlxiqSrZfUkkurPOUaDGqUk7JvXI8ruJv1otYP3EijDHGi92YWvBiN6YSvNiNqYQ4F5Vjii8WcRzAAQBXAMhVjO7nQhy3x9wZumXMC1JKed1udHixf3jRiOdTSis7fuEJciGO22PuDBfCmP3PeGMqwYvdmEqYrMW+YZKuO1EuxHF7zJ2h68c8KTG7Mabz+J/xxlRCxxd7RNwfEbsiYndErOv09UuIiO9FxFBEbBt1bHZEbIqI/tbP3Ng+iUTE/Ij4ZUTsjIjtEfFQ63jXjjsiZkTEcxHxcmvM32od79oxjxARUyPipYh4otXu+jF3dLFHxFQA/w3grwAsA/CViFjWyTEU8n0A99OxdQA2p5QWA9jcancTpwB8I6W0FMAdAP6hNbfdPO73ANyTUroJwM0A7o+IO9DdYx7hIQA7R7W7f8wppY79B+AvAPxiVPsRAI90cgxnMdaFALaNau8C0Nv6cy+AXZM9xjbjfwzAfRfKuAFcAuBFALd3+5gB9GF4Qd8D4IkL5f3o9D/j5wEYvQv9QOvYhUBPSmkQAFo/83pVXUJELARwC4DfosvH3frn8FYAQwA2pZS6fswAvgPgmwBG5xp3+5g7vthVsq1/HXAOiYhLAfwEwNdTSm9O9njakVI6nVK6GcPflrdFxPJJHtKYRMSDAIZSSi9M9ljOlk4v9gEA80e1+wAc6fAYxsuxiOgFgNbPfEuPSSYipmF4of8gpfS/rcNdP24ASCmdBPA0hrWSbh7zpwF8PiL2A/gRgHsi4lF095gBdH6xbwGwOCIWRcR0AF8G8HiHxzBeHgewuvXn1RiOibuGGC5R8l0AO1NK3x71v7p23BFxZURc3vrzxQA+C+A1dPGYU0qPpJT6UkoLMfz+PpVS+iq6eMwfMgnixgMAXgewB8C/TrZocYYx/hDAIID3MfyvkTUA5mBYlOlv/Zw92eOkMf8lhkOiVwBsbf33QDePG8AKAC+1xrwNwL+1jnftmGn8d+P/BbquH7MddMZUgh10xlSCF7sxleDFbkwleLEbUwle7MZUghe7MZXgxW5MJXixG1MJ/wd1xgdrneTgIQAAAABJRU5ErkJggg==\n",
      "text/plain": [
       "<Figure size 432x288 with 1 Axes>"
      ]
     },
     "metadata": {
      "needs_background": "light"
     },
     "output_type": "display_data"
    },
    {
     "data": {
      "image/png": "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\n",
      "text/plain": [
       "<Figure size 432x288 with 1 Axes>"
      ]
     },
     "metadata": {
      "needs_background": "light"
     },
     "output_type": "display_data"
    },
    {
     "data": {
      "image/png": "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\n",
      "text/plain": [
       "<Figure size 432x288 with 1 Axes>"
      ]
     },
     "metadata": {
      "needs_background": "light"
     },
     "output_type": "display_data"
    },
    {
     "data": {
      "image/png": "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\n",
      "text/plain": [
       "<Figure size 432x288 with 1 Axes>"
      ]
     },
     "metadata": {
      "needs_background": "light"
     },
     "output_type": "display_data"
    },
    {
     "data": {
      "image/png": "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\n",
      "text/plain": [
       "<Figure size 432x288 with 1 Axes>"
      ]
     },
     "metadata": {
      "needs_background": "light"
     },
     "output_type": "display_data"
    }
   ],
   "source": [
    "for i in range(10):\n",
    "    plt.figure(i)\n",
    "    plt.imshow(X[i].reshape((48, 48)), interpolation='none', cmap='gray')\n",
    "plt.show()"
   ]
  },
  {
   "cell_type": "code",
   "execution_count": 16,
   "metadata": {},
   "outputs": [],
   "source": [
    "X = X/255"
   ]
  },
  {
   "cell_type": "code",
   "execution_count": 17,
   "metadata": {},
   "outputs": [
    {
     "name": "stdout",
     "output_type": "stream",
     "text": [
      "(28710, 2304) (28710,)\n",
      "(3590, 2304) (3590,)\n"
     ]
    }
   ],
   "source": [
    "X_train = X[0:28710, :]\n",
    "Y_train = y[0:28710]\n",
    "print (X_train.shape, Y_train.shape)\n",
    "X_crossval = X[28710:32300, :]\n",
    "Y_crossval = y[28710:32300]\n",
    "print (X_crossval.shape, Y_crossval.shape)"
   ]
  },
  {
   "cell_type": "code",
   "execution_count": 18,
   "metadata": {},
   "outputs": [],
   "source": [
    "X_train = X_train.reshape((X_train.shape[0], 1 , 48, 48 ))\n",
    "X_crossval = X_crossval.reshape((X_crossval.shape[0], 1 ,48, 48))"
   ]
  },
  {
   "cell_type": "code",
   "execution_count": 19,
   "metadata": {},
   "outputs": [
    {
     "data": {
      "text/plain": [
       "(28710, 1, 48, 48)"
      ]
     },
     "execution_count": 19,
     "metadata": {},
     "output_type": "execute_result"
    }
   ],
   "source": [
    "X_train.shape"
   ]
  },
  {
   "cell_type": "code",
   "execution_count": 20,
   "metadata": {},
   "outputs": [],
   "source": [
    "from keras.utils import np_utils"
   ]
  },
  {
   "cell_type": "code",
   "execution_count": 21,
   "metadata": {},
   "outputs": [
    {
     "name": "stdout",
     "output_type": "stream",
     "text": [
      "(35887,)\n",
      "(35887, 7)\n"
     ]
    }
   ],
   "source": [
    "print (y.shape)\n",
    "y_ = np_utils.to_categorical(y, 7)\n",
    "print (y_.shape)"
   ]
  },
  {
   "cell_type": "code",
   "execution_count": 22,
   "metadata": {},
   "outputs": [
    {
     "name": "stdout",
     "output_type": "stream",
     "text": [
      "(3590, 1, 48, 48) (3590, 7)\n"
     ]
    }
   ],
   "source": [
    "Y_train = y_[:28710]\n",
    "Y_crossval = y_[28710:32300]\n",
    "print (X_crossval.shape, Y_crossval.shape)"
   ]
  },
  {
   "cell_type": "code",
   "execution_count": 7,
   "metadata": {},
   "outputs": [],
   "source": [
    "train_datagen = ImageDataGenerator(rescale=1./255,rotation_range=30,shear_range=0.3,zoom_range=0.3,width_shift_range=0.4,height_shift_range=0.4,horizontal_flip=True,fill_mode='nearest')"
   ]
  },
  {
   "cell_type": "code",
   "execution_count": 24,
   "metadata": {},
   "outputs": [
    {
     "name": "stderr",
     "output_type": "stream",
     "text": [
      "C:\\Users\\91790\\Anaconda3\\lib\\site-packages\\keras_preprocessing\\image\\image_data_generator.py:947: UserWarning: Expected input to be images (as Numpy array) following the data format convention \"channels_last\" (channels on axis 3), i.e. expected either 1, 3 or 4 channels on axis 3. However, it was passed an array with shape (28710, 1, 48, 48) (48 channels).\n",
      "  ' channels).')\n"
     ]
    }
   ],
   "source": [
    "train_datagen.fit(X_train)"
   ]
  },
  {
   "cell_type": "code",
   "execution_count": 25,
   "metadata": {},
   "outputs": [
    {
     "data": {
      "text/plain": [
       "(28710, 1, 48, 48)"
      ]
     },
     "execution_count": 25,
     "metadata": {},
     "output_type": "execute_result"
    }
   ],
   "source": [
    "X_train.shape"
   ]
  },
  {
   "cell_type": "code",
   "execution_count": 8,
   "metadata": {},
   "outputs": [],
   "source": [
    "validation_datagen = ImageDataGenerator(rescale=1./255)"
   ]
  },
  {
   "cell_type": "code",
   "execution_count": 5,
   "metadata": {},
   "outputs": [],
   "source": [
    "train_data_dir = r'C:\\Users\\91790\\Downloads\\ML\\Project\\face-expression-recognition-dataset\\images\\train'\n",
    "val_data_dir = r'C:\\Users\\91790\\Downloads\\ML\\Project\\face-expression-recognition-dataset\\images\\validation'\n",
    "\n"
   ]
  },
  {
   "cell_type": "code",
   "execution_count": 9,
   "metadata": {},
   "outputs": [
    {
     "name": "stdout",
     "output_type": "stream",
     "text": [
      "Found 28821 images belonging to 7 classes.\n"
     ]
    }
   ],
   "source": [
    "train_generator = train_datagen.flow_from_directory(\n",
    "\t\t\t\t\ttrain_data_dir,\n",
    "\t\t\t\t\tcolor_mode='grayscale',\n",
    "\t\t\t\t\ttarget_size=(48,48),\n",
    "\t\t\t\t\tbatch_size=32,\n",
    "\t\t\t\t\tclass_mode='categorical',\n",
    "\t\t\t\t\tshuffle=True)"
   ]
  },
  {
   "cell_type": "code",
   "execution_count": 10,
   "metadata": {},
   "outputs": [
    {
     "name": "stdout",
     "output_type": "stream",
     "text": [
      "Found 7066 images belonging to 7 classes.\n"
     ]
    }
   ],
   "source": [
    "validation_generator = validation_datagen.flow_from_directory(\n",
    "\t\t\t\t\t\t\tval_data_dir,\n",
    "\t\t\t\t\t\t\tcolor_mode='grayscale',\n",
    "\t\t\t\t\t\t\ttarget_size=(48,48),\n",
    "\t\t\t\t\t\t\tbatch_size=32,\n",
    "\t\t\t\t\t\t\tclass_mode='categorical',\n",
    "\t\t\t\t\t\t\tshuffle=True)"
   ]
  },
  {
   "cell_type": "code",
   "execution_count": 29,
   "metadata": {},
   "outputs": [
    {
     "name": "stdout",
     "output_type": "stream",
     "text": [
      "Model: \"sequential_1\"\n",
      "_________________________________________________________________\n",
      "Layer (type)                 Output Shape              Param #   \n",
      "=================================================================\n",
      "conv2d_1 (Conv2D)            (None, 48, 48, 32)        320       \n",
      "_________________________________________________________________\n",
      "activation_1 (Activation)    (None, 48, 48, 32)        0         \n",
      "_________________________________________________________________\n",
      "batch_normalization_1 (Batch (None, 48, 48, 32)        128       \n",
      "_________________________________________________________________\n",
      "conv2d_2 (Conv2D)            (None, 48, 48, 32)        9248      \n",
      "_________________________________________________________________\n",
      "activation_2 (Activation)    (None, 48, 48, 32)        0         \n",
      "_________________________________________________________________\n",
      "batch_normalization_2 (Batch (None, 48, 48, 32)        128       \n",
      "_________________________________________________________________\n",
      "max_pooling2d_1 (MaxPooling2 (None, 24, 24, 32)        0         \n",
      "_________________________________________________________________\n",
      "dropout_1 (Dropout)          (None, 24, 24, 32)        0         \n",
      "_________________________________________________________________\n",
      "conv2d_3 (Conv2D)            (None, 24, 24, 64)        18496     \n",
      "_________________________________________________________________\n",
      "activation_3 (Activation)    (None, 24, 24, 64)        0         \n",
      "_________________________________________________________________\n",
      "batch_normalization_3 (Batch (None, 24, 24, 64)        256       \n",
      "_________________________________________________________________\n",
      "conv2d_4 (Conv2D)            (None, 24, 24, 64)        36928     \n",
      "_________________________________________________________________\n",
      "activation_4 (Activation)    (None, 24, 24, 64)        0         \n",
      "_________________________________________________________________\n",
      "batch_normalization_4 (Batch (None, 24, 24, 64)        256       \n",
      "_________________________________________________________________\n",
      "max_pooling2d_2 (MaxPooling2 (None, 12, 12, 64)        0         \n",
      "_________________________________________________________________\n",
      "dropout_2 (Dropout)          (None, 12, 12, 64)        0         \n",
      "_________________________________________________________________\n",
      "conv2d_5 (Conv2D)            (None, 12, 12, 128)       73856     \n",
      "_________________________________________________________________\n",
      "activation_5 (Activation)    (None, 12, 12, 128)       0         \n",
      "_________________________________________________________________\n",
      "batch_normalization_5 (Batch (None, 12, 12, 128)       512       \n",
      "_________________________________________________________________\n",
      "conv2d_6 (Conv2D)            (None, 12, 12, 128)       147584    \n",
      "_________________________________________________________________\n",
      "activation_6 (Activation)    (None, 12, 12, 128)       0         \n",
      "_________________________________________________________________\n",
      "batch_normalization_6 (Batch (None, 12, 12, 128)       512       \n",
      "_________________________________________________________________\n",
      "max_pooling2d_3 (MaxPooling2 (None, 6, 6, 128)         0         \n",
      "_________________________________________________________________\n",
      "dropout_3 (Dropout)          (None, 6, 6, 128)         0         \n",
      "_________________________________________________________________\n",
      "conv2d_7 (Conv2D)            (None, 6, 6, 256)         295168    \n",
      "_________________________________________________________________\n",
      "activation_7 (Activation)    (None, 6, 6, 256)         0         \n",
      "_________________________________________________________________\n",
      "batch_normalization_7 (Batch (None, 6, 6, 256)         1024      \n",
      "_________________________________________________________________\n",
      "conv2d_8 (Conv2D)            (None, 6, 6, 256)         590080    \n",
      "_________________________________________________________________\n",
      "activation_8 (Activation)    (None, 6, 6, 256)         0         \n",
      "_________________________________________________________________\n",
      "batch_normalization_8 (Batch (None, 6, 6, 256)         1024      \n",
      "_________________________________________________________________\n",
      "max_pooling2d_4 (MaxPooling2 (None, 3, 3, 256)         0         \n",
      "_________________________________________________________________\n",
      "dropout_4 (Dropout)          (None, 3, 3, 256)         0         \n",
      "_________________________________________________________________\n",
      "flatten_1 (Flatten)          (None, 2304)              0         \n",
      "_________________________________________________________________\n",
      "dense_1 (Dense)              (None, 64)                147520    \n",
      "_________________________________________________________________\n",
      "activation_9 (Activation)    (None, 64)                0         \n",
      "_________________________________________________________________\n",
      "batch_normalization_9 (Batch (None, 64)                256       \n",
      "_________________________________________________________________\n",
      "dropout_5 (Dropout)          (None, 64)                0         \n",
      "_________________________________________________________________\n",
      "dense_2 (Dense)              (None, 64)                4160      \n",
      "_________________________________________________________________\n",
      "activation_10 (Activation)   (None, 64)                0         \n",
      "_________________________________________________________________\n",
      "batch_normalization_10 (Batc (None, 64)                256       \n",
      "_________________________________________________________________\n",
      "dropout_6 (Dropout)          (None, 64)                0         \n",
      "_________________________________________________________________\n",
      "dense_3 (Dense)              (None, 7)                 455       \n",
      "_________________________________________________________________\n",
      "activation_11 (Activation)   (None, 7)                 0         \n",
      "=================================================================\n",
      "Total params: 1,328,167\n",
      "Trainable params: 1,325,991\n",
      "Non-trainable params: 2,176\n",
      "_________________________________________________________________\n",
      "None\n"
     ]
    }
   ],
   "source": [
    "model = Sequential()\n",
    "\n",
    "# Block-1\n",
    "\n",
    "model.add(Conv2D(32,(3,3),padding='same',kernel_initializer='he_normal',input_shape=(48,48,1)))\n",
    "model.add(Activation('elu'))\n",
    "model.add(BatchNormalization())\n",
    "model.add(Conv2D(32,(3,3),padding='same',kernel_initializer='he_normal',input_shape=(48,48,1)))\n",
    "model.add(Activation('elu'))\n",
    "model.add(BatchNormalization())\n",
    "model.add(MaxPooling2D(pool_size=(2,2)))\n",
    "model.add(Dropout(0.2))\n",
    "\n",
    "# Block-2 \n",
    "\n",
    "model.add(Conv2D(64,(3,3),padding='same',kernel_initializer='he_normal'))\n",
    "model.add(Activation('elu'))\n",
    "model.add(BatchNormalization())\n",
    "model.add(Conv2D(64,(3,3),padding='same',kernel_initializer='he_normal'))\n",
    "model.add(Activation('elu'))\n",
    "model.add(BatchNormalization())\n",
    "model.add(MaxPooling2D(pool_size=(2,2)))\n",
    "model.add(Dropout(0.2))\n",
    "\n",
    "# Block-3\n",
    "\n",
    "model.add(Conv2D(128,(3,3),padding='same',kernel_initializer='he_normal'))\n",
    "model.add(Activation('elu'))\n",
    "model.add(BatchNormalization())\n",
    "model.add(Conv2D(128,(3,3),padding='same',kernel_initializer='he_normal'))\n",
    "model.add(Activation('elu'))\n",
    "model.add(BatchNormalization())\n",
    "model.add(MaxPooling2D(pool_size=(2,2)))\n",
    "model.add(Dropout(0.2))\n",
    "\n",
    "# Block-4 \n",
    "\n",
    "model.add(Conv2D(256,(3,3),padding='same',kernel_initializer='he_normal'))\n",
    "model.add(Activation('elu'))\n",
    "model.add(BatchNormalization())\n",
    "model.add(Conv2D(256,(3,3),padding='same',kernel_initializer='he_normal'))\n",
    "model.add(Activation('elu'))\n",
    "model.add(BatchNormalization())\n",
    "model.add(MaxPooling2D(pool_size=(2,2)))\n",
    "model.add(Dropout(0.2))\n",
    "\n",
    "# Block-5\n",
    "\n",
    "model.add(Flatten())\n",
    "model.add(Dense(64,kernel_initializer='he_normal'))\n",
    "model.add(Activation('elu'))\n",
    "model.add(BatchNormalization())\n",
    "model.add(Dropout(0.5))\n",
    "\n",
    "# Block-6\n",
    "\n",
    "model.add(Dense(64,kernel_initializer='he_normal'))\n",
    "model.add(Activation('elu'))\n",
    "model.add(BatchNormalization())\n",
    "# model.add(Dropout(0.5))\n",
    "\n",
    "# Block-7\n",
    "\n",
    "model.add(Dense(num_classes,kernel_initializer='he_normal'))\n",
    "model.add(Activation('softmax'))\n",
    "\n",
    "print(model.summary())"
   ]
  },
  {
   "cell_type": "code",
   "execution_count": 11,
   "metadata": {},
   "outputs": [],
   "source": [
    "model2 = K.models.load_model('Emotion_little_vgg.h5')"
   ]
  },
  {
   "cell_type": "code",
   "execution_count": 43,
   "metadata": {},
   "outputs": [],
   "source": [
    "model3 = K.models.load_model('Emotion_little_vgg2.h5')"
   ]
  },
  {
   "cell_type": "code",
   "execution_count": 12,
   "metadata": {},
   "outputs": [],
   "source": [
    "from keras.optimizers import RMSprop,SGD,Adam\n",
    "from keras.callbacks import ModelCheckpoint, EarlyStopping, ReduceLROnPlateau"
   ]
  },
  {
   "cell_type": "code",
   "execution_count": 13,
   "metadata": {},
   "outputs": [],
   "source": [
    "checkpoint = ModelCheckpoint('Emotion_little_vgg2.h5',\n",
    "                             monitor='val_loss',\n",
    "                             mode='min',\n",
    "                             save_best_only=True,\n",
    "                             verbose=1)\n",
    "\n",
    "earlystop = EarlyStopping(monitor='val_loss',\n",
    "                          min_delta=0,\n",
    "                          patience=3,\n",
    "                          verbose=1,\n",
    "                          restore_best_weights=True\n",
    "                          )\n",
    "\n",
    "reduce_lr = ReduceLROnPlateau(monitor='val_loss',\n",
    "                              factor=0.2,\n",
    "                              patience=3,\n",
    "                              verbose=1,\n",
    "                              min_delta=0.0001)"
   ]
  },
  {
   "cell_type": "code",
   "execution_count": 14,
   "metadata": {},
   "outputs": [],
   "source": [
    "callbacks = [earlystop,checkpoint,reduce_lr]\n",
    "\n",
    "model2.compile(loss='categorical_crossentropy',\n",
    "              optimizer = Adam(lr=0.001),\n",
    "              metrics=['accuracy'])"
   ]
  },
  {
   "cell_type": "code",
   "execution_count": null,
   "metadata": {},
   "outputs": [
    {
     "name": "stdout",
     "output_type": "stream",
     "text": [
      "Epoch 1/25\n",
      "897/897 [==============================] - 101s 112ms/step - loss: 2.1352 - accuracy: 0.1934 - val_loss: 1.7869 - val_accuracy: 0.2652\n",
      "\n",
      "Epoch 00001: val_loss improved from inf to 1.78687, saving model to Emotion_little_vgg.h5\n",
      "Epoch 2/25\n",
      "897/897 [==============================] - 93s 103ms/step - loss: 1.8191 - accuracy: 0.2368 - val_loss: 1.7910 - val_accuracy: 0.2679\n",
      "\n",
      "Epoch 00002: val_loss did not improve from 1.78687\n",
      "Epoch 3/25\n",
      "897/897 [==============================] - 91s 102ms/step - loss: 1.7895 - accuracy: 0.2551 - val_loss: 1.8175 - val_accuracy: 0.2967\n",
      "\n",
      "Epoch 00003: val_loss did not improve from 1.78687\n",
      "Epoch 4/25\n",
      "897/897 [==============================] - 91s 102ms/step - loss: 1.7612 - accuracy: 0.2734 - val_loss: 1.7300 - val_accuracy: 0.3161\n",
      "\n",
      "Epoch 00004: val_loss improved from 1.78687 to 1.73001, saving model to Emotion_little_vgg.h5\n",
      "Epoch 5/25\n",
      "897/897 [==============================] - 92s 103ms/step - loss: 1.7089 - accuracy: 0.3077 - val_loss: 1.7563 - val_accuracy: 0.3836\n",
      "\n",
      "Epoch 00005: val_loss did not improve from 1.73001\n",
      "Epoch 6/25\n",
      "897/897 [==============================] - 93s 103ms/step - loss: 1.6314 - accuracy: 0.3514 - val_loss: 1.4172 - val_accuracy: 0.4751\n",
      "\n",
      "Epoch 00006: val_loss improved from 1.73001 to 1.41722, saving model to Emotion_little_vgg.h5\n",
      "Epoch 7/25\n",
      "897/897 [==============================] - 92s 103ms/step - loss: 1.5533 - accuracy: 0.3966 - val_loss: 1.2065 - val_accuracy: 0.4997\n",
      "\n",
      "Epoch 00007: val_loss improved from 1.41722 to 1.20652, saving model to Emotion_little_vgg.h5\n",
      "Epoch 8/25\n",
      "897/897 [==============================] - 93s 104ms/step - loss: 1.4989 - accuracy: 0.4195 - val_loss: 1.1465 - val_accuracy: 0.5172\n",
      "\n",
      "Epoch 00008: val_loss improved from 1.20652 to 1.14654, saving model to Emotion_little_vgg.h5\n",
      "Epoch 9/25\n",
      "897/897 [==============================] - 92s 103ms/step - loss: 1.4624 - accuracy: 0.4337 - val_loss: 1.4838 - val_accuracy: 0.5177\n",
      "\n",
      "Epoch 00009: val_loss did not improve from 1.14654\n",
      "Epoch 10/25\n",
      "897/897 [==============================] - 93s 103ms/step - loss: 1.4281 - accuracy: 0.4538 - val_loss: 1.3235 - val_accuracy: 0.5119\n",
      "\n",
      "Epoch 00010: val_loss did not improve from 1.14654\n",
      "Epoch 11/25\n",
      "897/897 [==============================] - 92s 102ms/step - loss: 1.4033 - accuracy: 0.4613 - val_loss: 0.9977 - val_accuracy: 0.5501\n",
      "\n",
      "Epoch 00011: val_loss improved from 1.14654 to 0.99771, saving model to Emotion_little_vgg.h5\n",
      "Epoch 12/25\n",
      "205/897 [=====>........................] - ETA: 1:07 - loss: 1.3848 - accuracy: 0.4665"
     ]
    }
   ],
   "source": [
    "nb_train_samples = 28710\n",
    "nb_validation_samples = 32300 - 28710\n",
    "epochs=25\n",
    "\n",
    "history=model.fit_generator(\n",
    "                train_generator,\n",
    "                steps_per_epoch=nb_train_samples//32,\n",
    "                epochs=epochs,\n",
    "                callbacks=callbacks,\n",
    "                validation_data=validation_generator,\n",
    "                validation_steps=nb_validation_samples/32)"
   ]
  },
  {
   "cell_type": "code",
   "execution_count": 16,
   "metadata": {},
   "outputs": [
    {
     "name": "stdout",
     "output_type": "stream",
     "text": [
      "Epoch 1/8\n",
      "897/897 [==============================] - 75s 83ms/step - loss: 1.3177 - accuracy: 0.5042 - val_loss: 0.9588 - val_accuracy: 0.5777\n",
      "\n",
      "Epoch 00001: val_loss did not improve from 0.89315\n",
      "Epoch 2/8\n",
      "897/897 [==============================] - 80s 89ms/step - loss: 1.2977 - accuracy: 0.5098 - val_loss: 1.1693 - val_accuracy: 0.5920\n",
      "\n",
      "Epoch 00002: val_loss did not improve from 0.89315\n",
      "Epoch 3/8\n",
      "897/897 [==============================] - 126s 140ms/step - loss: 1.2967 - accuracy: 0.5068 - val_loss: 1.3782 - val_accuracy: 0.5929\n",
      "\n",
      "Epoch 00003: val_loss did not improve from 0.89315\n",
      "Epoch 4/8\n",
      "897/897 [==============================] - 107s 119ms/step - loss: 1.2906 - accuracy: 0.5119 - val_loss: 0.7995 - val_accuracy: 0.5864\n",
      "\n",
      "Epoch 00004: val_loss improved from 0.89315 to 0.79947, saving model to Emotion_little_vgg2.h5\n",
      "Epoch 5/8\n",
      "897/897 [==============================] - 100s 112ms/step - loss: 1.2826 - accuracy: 0.5181 - val_loss: 0.8169 - val_accuracy: 0.5924\n",
      "\n",
      "Epoch 00005: val_loss did not improve from 0.79947\n",
      "Epoch 6/8\n",
      "897/897 [==============================] - 131s 147ms/step - loss: 1.2764 - accuracy: 0.5208 - val_loss: 1.1524 - val_accuracy: 0.5934\n",
      "\n",
      "Epoch 00006: val_loss did not improve from 0.79947\n",
      "Epoch 7/8\n",
      "897/897 [==============================] - 91s 101ms/step - loss: 1.2681 - accuracy: 0.5243 - val_loss: 0.6497 - val_accuracy: 0.5924\n",
      "\n",
      "Epoch 00007: val_loss improved from 0.79947 to 0.64967, saving model to Emotion_little_vgg2.h5\n",
      "Epoch 8/8\n",
      "897/897 [==============================] - 130s 145ms/step - loss: 1.2675 - accuracy: 0.5247 - val_loss: 1.1501 - val_accuracy: 0.6083\n",
      "\n",
      "Epoch 00008: val_loss did not improve from 0.64967\n"
     ]
    }
   ],
   "source": [
    "nb_train_samples = 28710\n",
    "nb_validation_samples = 32300 - 28710\n",
    "epochs=25-11-6\n",
    "\n",
    "history=model2.fit_generator(\n",
    "                train_generator,\n",
    "                steps_per_epoch=nb_train_samples//32,\n",
    "                epochs=epochs,\n",
    "                callbacks=callbacks,\n",
    "                validation_data=validation_generator,\n",
    "                validation_steps=nb_validation_samples/32)"
   ]
  },
  {
   "cell_type": "code",
   "execution_count": null,
   "metadata": {},
   "outputs": [
    {
     "name": "stdout",
     "output_type": "stream",
     "text": [
      "Epoch 1/9\n",
      "897/897 [==============================] - 92s 103ms/step - loss: 1.3366 - accuracy: 0.4980 - val_loss: 1.0117 - val_accuracy: 0.5846\n",
      "\n",
      "Epoch 00001: val_loss improved from inf to 1.01173, saving model to Emotion_little_vgg3.h5\n",
      "Epoch 2/9\n",
      "897/897 [==============================] - 83s 92ms/step - loss: 1.3190 - accuracy: 0.5024 - val_loss: 1.2098 - val_accuracy: 0.5878\n",
      "\n",
      "Epoch 00002: val_loss did not improve from 1.01173\n",
      "Epoch 3/9\n",
      "897/897 [==============================] - 87s 97ms/step - loss: 1.3144 - accuracy: 0.5075 - val_loss: 1.2540 - val_accuracy: 0.5810\n",
      "\n",
      "Epoch 00003: val_loss did not improve from 1.01173\n",
      "Epoch 4/9\n",
      "449/897 [==============>...............] - ETA: 40s - loss: 1.3022 - accuracy: 0.5141"
     ]
    }
   ],
   "source": [
    "nb_train_samples = 28710\n",
    "nb_validation_samples = 32300 - 28710\n",
    "epochs=25-11-5\n",
    "\n",
    "history=model3.fit_generator(\n",
    "                train_generator,\n",
    "                steps_per_epoch=nb_train_samples//32,\n",
    "                epochs=epochs,\n",
    "                callbacks=callbacks,\n",
    "                validation_data=validation_generator,\n",
    "                validation_steps=nb_validation_samples/32)"
   ]
  },
  {
   "cell_type": "code",
   "execution_count": 17,
   "metadata": {},
   "outputs": [
    {
     "name": "stdout",
     "output_type": "stream",
     "text": [
      "Epoch 1/5\n",
      "897/897 [==============================] - 80s 89ms/step - loss: 1.2572 - accuracy: 0.5264 - val_loss: 0.7219 - val_accuracy: 0.6037\n",
      "\n",
      "Epoch 00001: val_loss did not improve from 0.64967\n",
      "Epoch 2/5\n",
      "897/897 [==============================] - 118s 132ms/step - loss: 1.2567 - accuracy: 0.5298 - val_loss: 1.1361 - val_accuracy: 0.5997\n",
      "\n",
      "Epoch 00002: val_loss did not improve from 0.64967\n",
      "Epoch 3/5\n",
      "897/897 [==============================] - 99s 111ms/step - loss: 1.2555 - accuracy: 0.5294 - val_loss: 0.9489 - val_accuracy: 0.6032\n",
      "\n",
      "Epoch 00003: val_loss did not improve from 0.64967\n",
      "Epoch 4/5\n",
      "897/897 [==============================] - 137s 153ms/step - loss: 1.2524 - accuracy: 0.5349 - val_loss: 1.1775 - val_accuracy: 0.6097\n",
      "Restoring model weights from the end of the best epoch\n",
      "\n",
      "Epoch 00004: val_loss did not improve from 0.64967\n",
      "\n",
      "Epoch 00004: ReduceLROnPlateau reducing learning rate to 4.0000001899898055e-05.\n",
      "Epoch 00004: early stopping\n"
     ]
    }
   ],
   "source": [
    "nb_train_samples = 28710\n",
    "nb_validation_samples = 32300 - 28710\n",
    "epochs=5\n",
    "\n",
    "history=model2.fit_generator(\n",
    "                train_generator,\n",
    "                steps_per_epoch=nb_train_samples//32,\n",
    "                epochs=epochs,\n",
    "                callbacks=callbacks,\n",
    "                validation_data=validation_generator,\n",
    "                validation_steps=nb_validation_samples/32)"
   ]
  },
  {
   "cell_type": "code",
   "execution_count": 7,
   "metadata": {},
   "outputs": [
    {
     "data": {
      "text/plain": [
       "2304"
      ]
     },
     "execution_count": 7,
     "metadata": {},
     "output_type": "execute_result"
    }
   ],
   "source": [
    "48*48"
   ]
  },
  {
   "cell_type": "code",
   "execution_count": null,
   "metadata": {},
   "outputs": [],
   "source": []
  }
 ],
 "metadata": {
  "kernelspec": {
   "display_name": "Python 3",
   "language": "python",
   "name": "python3"
  },
  "language_info": {
   "codemirror_mode": {
    "name": "ipython",
    "version": 3
   },
   "file_extension": ".py",
   "mimetype": "text/x-python",
   "name": "python",
   "nbconvert_exporter": "python",
   "pygments_lexer": "ipython3",
   "version": "3.7.4"
  }
 },
 "nbformat": 4,
 "nbformat_minor": 2
}
